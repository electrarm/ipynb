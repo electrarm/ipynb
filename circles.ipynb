{
  "nbformat": 4,
  "nbformat_minor": 0,
  "metadata": {
    "colab": {
      "provenance": []
    },
    "kernelspec": {
      "name": "python3",
      "display_name": "Python 3"
    },
    "language_info": {
      "name": "python"
    }
  },
  "cells": [
    {
      "cell_type": "code",
      "execution_count": null,
      "metadata": {
        "colab": {
          "base_uri": "https://localhost:8080/",
          "height": 35
        },
        "id": "ZrQT6CNMnyPw",
        "outputId": "39fc01ff-204a-46a4-8cf0-719506c2e33d"
      },
      "outputs": [
        {
          "output_type": "execute_result",
          "data": {
            "text/plain": [
              "'cpu'"
            ],
            "application/vnd.google.colaboratory.intrinsic+json": {
              "type": "string"
            }
          },
          "metadata": {},
          "execution_count": 1
        }
      ],
      "source": [
        "import torch\n",
        "from torch import nn\n",
        "import numpy as np\n",
        "import matplotlib.pyplot as plt\n",
        "from sklearn.datasets import make_circles\n",
        "from sklearn.model_selection import train_test_split\n",
        "import pandas as pd\n",
        "import torchvision\n",
        "from torchvision import datasets\n",
        "from torchvision import transforms\n",
        "from torchvision.transforms import ToTensor\n",
        "\n",
        "device = \"cuda\" if torch.cuda.is_available() else \"cpu\"\n",
        "\n",
        "device"
      ]
    },
    {
      "cell_type": "code",
      "source": [
        "import requests\n",
        "import zipfile\n",
        "from pathlib import Path"
      ],
      "metadata": {
        "id": "fTWUMaados3h"
      },
      "execution_count": null,
      "outputs": []
    },
    {
      "cell_type": "markdown",
      "source": [
        "# 1. Code for one circle"
      ],
      "metadata": {
        "id": "0rN_eCdstFhx"
      }
    },
    {
      "cell_type": "code",
      "source": [
        "pi = np.pi\n",
        "\n",
        "def plot_circle(r=None) :\n",
        "\n",
        "  theta = np.linspace(0,2*pi,100)\n",
        "\n",
        "  if r is None:\n",
        "    r = int(input(\"Enter the radius:\"))\n",
        "\n",
        "  x = r*np.cos(theta)\n",
        "  y = r*np.sin(theta)\n",
        "\n",
        "  max_x = np.max(x)\n",
        "  max_y = np.max(y)\n",
        "\n",
        "  norm_x = x/max_x\n",
        "  norm_y = y/max_y\n",
        "\n",
        "  plt.figure(figsize = (3,5))\n",
        "  plt.plot(norm_x,norm_y)"
      ],
      "metadata": {
        "id": "Bm_v2DHjtFOb"
      },
      "execution_count": null,
      "outputs": []
    },
    {
      "cell_type": "code",
      "source": [
        "plot_circle(5)"
      ],
      "metadata": {
        "colab": {
          "base_uri": "https://localhost:8080/",
          "height": 445
        },
        "id": "dBIVDEshwFya",
        "outputId": "dbf60b66-d1b5-4a8b-f508-ca9fa02bfa1a"
      },
      "execution_count": null,
      "outputs": [
        {
          "output_type": "display_data",
          "data": {
            "text/plain": [
              "<Figure size 300x500 with 1 Axes>"
            ],
            "image/png": "[encoded data removed]"
          },
          "metadata": {}
        }
      ]
    },
    {
      "cell_type": "markdown",
      "source": [
        "Make two circles"
      ],
      "metadata": {
        "id": "dAYVVS_awbF_"
      }
    },
    {
      "cell_type": "code",
      "source": [
        "import numpy as np\n",
        "import matplotlib.pyplot as plt\n",
        "from math import pi  # Added import\n",
        "\n",
        "def plot_circles(r1=None, r2=None, cx1=None, cy1=None, cx2=None, cy2=None , save_path = None):\n",
        "    theta = np.linspace(0, 2 * pi, 100)\n",
        "\n",
        "    # Input for Circle 1\n",
        "    if r1 is None:\n",
        "        r1 = int(input(\"Enter the radius for circle one: \"))\n",
        "    if cx1 is None or cy1 is None:\n",
        "        cx1, cy1 = map(int, input(\"Enter the center coordinates for circle one (e.g., 0 0): \").split())\n",
        "\n",
        "    # Input for Circle 2\n",
        "    if r2 is None:\n",
        "        r2 = int(input(\"Enter the radius for circle two: \"))\n",
        "    if cx2 is None or cy2 is None:\n",
        "        cx2, cy2 = map(int, input(\"Enter the center coordinates for circle two (e.g., 2 3): \").split())\n",
        "\n",
        "    # Circle 1 coordinates\n",
        "    x1 = cx1 + r1 * np.cos(theta)\n",
        "    y1 = cy1 + r1 * np.sin(theta)\n",
        "\n",
        "    # Circle 2 coordinates\n",
        "    x2 = cx2 + r2 * np.cos(theta)\n",
        "    y2 = cy2 + r2 * np.sin(theta)\n",
        "\n",
        "    # Plotting\n",
        "    plt.figure(figsize=(6, 6))\n",
        "    plt.plot(x1, y1, label=f\"Circle 1 (r={r1}, center=({cx1}, {cy1}))\", color=\"red\")\n",
        "    plt.plot(x2, y2, label=f\"Circle 2 (r={r2}, center=({cx2}, {cy2}))\", color=\"blue\")\n",
        "\n",
        "    # Equal aspect ratio to keep circles round\n",
        "    plt.gca().set_aspect('equal')\n",
        "\n",
        "    # Grid and legend\n",
        "    plt.grid(True, linestyle='--', alpha=0.5)\n",
        "    plt.legend()\n",
        "\n",
        "    # Move axes to the center\n",
        "    ax = plt.gca()\n",
        "    ax.spines['left'].set_position('center')\n",
        "    ax.spines['bottom'].set_position('center')\n",
        "    ax.spines['right'].set_color('none')\n",
        "    ax.spines['top'].set_color('none')\n",
        "\n",
        "    if save_path:\n",
        "      plt.savefig(save_path)\n",
        "      plt.close()\n",
        "    else:\n",
        "      plt.show()\n",
        "\n",
        "\n",
        "\n"
      ],
      "metadata": {
        "id": "0UOs7_tPwaLm"
      },
      "execution_count": null,
      "outputs": []
    },
    {
      "cell_type": "markdown",
      "source": [
        "Make the directory wich we are gonna save the images and make the images"
      ],
      "metadata": {
        "id": "iENGEBwNQp2F"
      }
    },
    {
      "cell_type": "code",
      "source": [
        "import os\n",
        "from random import randint,uniform"
      ],
      "metadata": {
        "id": "_9zovYwVQt1b"
      },
      "execution_count": null,
      "outputs": []
    },
    {
      "cell_type": "code",
      "source": [
        "from pathlib import Path\n",
        "\n",
        "data_path = Path(\"data/\")\n",
        "image_path = data_path / \"circles\"\n",
        "\n",
        "if image_path.is_dir():\n",
        "    print(f\"{image_path} directory already exists\")\n",
        "else:\n",
        "    print(f\"Creating {image_path} directory\")\n",
        "    image_path.mkdir(parents=True, exist_ok=True)\n"
      ],
      "metadata": {
        "colab": {
          "base_uri": "https://localhost:8080/"
        },
        "id": "mvAtMMVfxgIr",
        "outputId": "a8fe0190-0676-4235-9d17-84223578408a"
      },
      "execution_count": null,
      "outputs": [
        {
          "output_type": "stream",
          "name": "stdout",
          "text": [
            "Creating data/circles directory\n"
          ]
        }
      ]
    },
    {
      "cell_type": "code",
      "source": [
        "circle_data_list = []\n",
        "\n",
        "for i in range(3000):\n",
        "    # Generate random float values\n",
        "    r1 = np.random.uniform(0.01, 10)    # Random float radius between 0.01 and 10\n",
        "    r2 = np.random.uniform(0.01, 10)\n",
        "\n",
        "    cx1 = np.random.uniform(-10, 10)    # Random float for x-coordinate\n",
        "    cy1 = np.random.uniform(-10, 10)    # Random float for y-coordinate\n",
        "\n",
        "    cx2 = np.random.uniform(-10, 10)\n",
        "    cy2 = np.random.uniform(-10, 10)\n",
        "\n",
        "    file_path = os.path.join(image_path, f\"circle_{i+1}.png\")\n",
        "\n",
        "    plot_circles(r1, r2, cx1, cy1, cx2, cy2, file_path)\n",
        "\n",
        "    # Save the data for each circle\n",
        "    circle_data_list.append([r1, r2, cx1, cy1, cx2, cy2])\n",
        "\n",
        "\n",
        "\n"
      ],
      "metadata": {
        "id": "9YuQq6KESKyp"
      },
      "execution_count": null,
      "outputs": []
    },
    {
      "cell_type": "code",
      "source": [
        "import zipfile\n",
        "import os\n",
        "import numpy as np  # Make sure NumPy is imported\n",
        "\n",
        "# Create a Zip file for all images\n",
        "zip_filename = \"/content/circles_images.zip\"  # This will be saved in the current directory of Colab\n",
        "\n",
        "with zipfile.ZipFile(zip_filename, 'w') as zipf:\n",
        "    # Loop through all the files in your image folder\n",
        "    for i in range(3000):\n",
        "        file_path = os.path.join(str(image_path), f\"circle_{i+1}.png\")  # Convert Path to string\n",
        "        zipf.write(file_path, os.path.basename(file_path))  # Add each image to the zip file\n",
        "\n",
        "print(f\"Images are zipped into {zip_filename}\")\n",
        "\n",
        "image_data_path = image_path / \"circles_data\"\n",
        "# Correct the np.save syntax\n",
        "np.save(os.path.join(str(image_data_path), \"circle_data.npy\"), np.array(circle_data_list))  # Save data\n",
        "\n",
        "# Load the saved data\n",
        "data = np.load(os.path.join(str(image_data_path), \"circle_data.npy\"))\n",
        "print(data.shape)\n",
        "\n"
      ],
      "metadata": {
        "colab": {
          "base_uri": "https://localhost:8080/"
        },
        "id": "qQ_-HrH6dgSX",
        "outputId": "b22dbf74-aab8-497a-b60c-b92563d5ad0a"
      },
      "execution_count": null,
      "outputs": [
        {
          "output_type": "stream",
          "name": "stdout",
          "text": [
            "Images are zipped into /content/circles_images.zip\n",
            "(3000, 6)\n"
          ]
        }
      ]
    },
    {
      "cell_type": "markdown",
      "source": [
        "Download the images at my pc"
      ],
      "metadata": {
        "id": "tFe5kpXaCmAR"
      }
    },
    {
      "cell_type": "code",
      "source": [
        "from google.colab import files\n",
        "files.download(zip_filename)"
      ],
      "metadata": {
        "colab": {
          "base_uri": "https://localhost:8080/",
          "height": 17
        },
        "id": "M96lr2HRLwAQ",
        "outputId": "c025593a-10b1-4105-ef9e-1684a7b2087e"
      },
      "execution_count": null,
      "outputs": [
        {
          "output_type": "display_data",
          "data": {
            "text/plain": [
              "<IPython.core.display.Javascript object>"
            ],
            "application/javascript": [
              "\n",
              "    async function download(id, filename, size) {\n",
              "      if (!google.colab.kernel.accessAllowed) {\n",
              "        return;\n",
              "      }\n",
              "      const div = document.createElement('div');\n",
              "      const label = document.createElement('label');\n",
              "      label.textContent = `Downloading \"${filename}\": `;\n",
              "      div.appendChild(label);\n",
              "      const progress = document.createElement('progress');\n",
              "      progress.max = size;\n",
              "      div.appendChild(progress);\n",
              "      document.body.appendChild(div);\n",
              "\n",
              "      const buffers = [];\n",
              "      let downloaded = 0;\n",
              "\n",
              "      const channel = await google.colab.kernel.comms.open(id);\n",
              "      // Send a message to notify the kernel that we're ready.\n",
              "      channel.send({})\n",
              "\n",
              "      for await (const message of channel.messages) {\n",
              "        // Send a message to notify the kernel that we're ready.\n",
              "        channel.send({})\n",
              "        if (message.buffers) {\n",
              "          for (const buffer of message.buffers) {\n",
              "            buffers.push(buffer);\n",
              "            downloaded += buffer.byteLength;\n",
              "            progress.value = downloaded;\n",
              "          }\n",
              "        }\n",
              "      }\n",
              "      const blob = new Blob(buffers, {type: 'application/binary'});\n",
              "      const a = document.createElement('a');\n",
              "      a.href = window.URL.createObjectURL(blob);\n",
              "      a.download = filename;\n",
              "      div.appendChild(a);\n",
              "      a.click();\n",
              "      div.remove();\n",
              "    }\n",
              "  "
            ]
          },
          "metadata": {}
        },
        {
          "output_type": "display_data",
          "data": {
            "text/plain": [
              "<IPython.core.display.Javascript object>"
            ],
            "application/javascript": [
              "download(\"download_00d40797-d1b4-4f11-85ef-2a2463753a77\", \"circles_images.zip\", 138853963)"
            ]
          },
          "metadata": {}
        }
      ]
    },
    {
      "cell_type": "markdown",
      "source": [
        "Become one with the data.\n",
        "\n",
        "So essentially what we have is some radius and some (x,y) coordinates . Let's see the lenght of the and their type . (they are python and not  numpy list so we have to convert them in order to process them. To use them at he model i will make them tensors)"
      ],
      "metadata": {
        "id": "tl7EQmw3L1dU"
      }
    },
    {
      "cell_type": "code",
      "source": [
        "circle_data_array = np.array(circle_data_list,dtype = np.float32)\n",
        "print(circle_data_array.shape)\n",
        "r1 = circle_data_array[:,0]\n",
        "x1 = circle_data_array[:,1]\n",
        "y1 = circle_data_array[:,2]\n",
        "r2 = circle_data_array[:,3]\n",
        "x2 = circle_data_array[:,4]\n",
        "y2 = circle_data_array[:,5]\n",
        "\n",
        "print(r1[:10],len(r1),r1.shape,circle_data_array.dtype)"
      ],
      "metadata": {
        "colab": {
          "base_uri": "https://localhost:8080/"
        },
        "id": "8fZWRRAkL00V",
        "outputId": "dbd3ea22-6478-43a6-adb9-41598ffc7a8e"
      },
      "execution_count": null,
      "outputs": [
        {
          "output_type": "stream",
          "name": "stdout",
          "text": [
            "(3000, 6)\n",
            "[2.8678315 7.95998   5.844887  4.8709016 3.8591275 7.743396  5.2619066\n",
            " 1.3882232 3.071314  4.4432325] 3000 (3000,) float32\n"
          ]
        }
      ]
    },
    {
      "cell_type": "markdown",
      "source": [
        "Turn them into tensor to use them at the model"
      ],
      "metadata": {
        "id": "xqGBxme3BFoj"
      }
    },
    {
      "cell_type": "code",
      "source": [
        "circle_data_tensor = torch.from_numpy(circle_data_array) # the type of tensor ar float32 and i ghave the same type for my arrat alaso\n",
        "\n",
        "r1 = circle_data_tensor[:,0]\n",
        "x1 = circle_data_tensor[:,1]\n",
        "y1 = circle_data_tensor[:,2]\n",
        "r2 = circle_data_tensor[:,3]\n",
        "x2 = circle_data_tensor[:,4]\n",
        "y2 = circle_data_tensor[:,5]\n",
        "\n",
        "\n",
        "print(r1[:10],type(r1),r1.dtype)"
      ],
      "metadata": {
        "colab": {
          "base_uri": "https://localhost:8080/"
        },
        "id": "TELcq3MfBB4h",
        "outputId": "b394bf90-16ce-4091-c2e6-968200ac3c44"
      },
      "execution_count": null,
      "outputs": [
        {
          "output_type": "stream",
          "name": "stdout",
          "text": [
            "tensor([2.8678, 7.9600, 5.8449, 4.8709, 3.8591, 7.7434, 5.2619, 1.3882, 3.0713,\n",
            "        4.4432]) <class 'torch.Tensor'> torch.float32\n"
          ]
        }
      ]
    },
    {
      "cell_type": "markdown",
      "source": [
        "Make the labels and the ratios for the images"
      ],
      "metadata": {
        "id": "LZedj2pAEkyb"
      }
    },
    {
      "cell_type": "code",
      "source": [
        "labels = []\n",
        "overlap_ratios = []  # List to store overlap ratios\n",
        "\n",
        "for data in circle_data_array:\n",
        "    r1, r2, x1, y1, x2, y2 = data\n",
        "\n",
        "    # Distance between centers\n",
        "    D = np.sqrt((x2 - x1)**2 + (y2 - y1)**2)\n",
        "\n",
        "    # Sum of radii\n",
        "    R = r1 + r2\n",
        "\n",
        "    # Calculate overlap ratio\n",
        "    if R != 0:\n",
        "      if D == 0 and np.abs(r1-r2):\n",
        "        overlap_ratio = 1\n",
        "      elif D <= np.abs(r1-r2):\n",
        "        overlap_ratio = 1\n",
        "      else:\n",
        "        overlap_ratio = D/R\n",
        "    else:\n",
        "        overlap_ratio = 0\n",
        "\n",
        "    # Append the calculated overlap ratio\n",
        "    overlap_ratios.append(overlap_ratio)\n",
        "\n",
        "    # Assign label based on overlap ratio\n",
        "    if overlap_ratio < 1:\n",
        "        labels.append(1)\n",
        "    else:\n",
        "        labels.append(0)\n",
        "\n",
        "# Convert lists to NumPy arrays\n",
        "labels = np.array(labels, dtype=np.float32)\n",
        "overlap_ratios = np.array(overlap_ratios, dtype=np.float32)\n",
        "\n",
        "print(overlap_ratios.shape)"
      ],
      "metadata": {
        "colab": {
          "base_uri": "https://localhost:8080/"
        },
        "id": "W8H9G4yYEjPc",
        "outputId": "bbcad1fe-0836-4fbd-8468-315b7b5a3126"
      },
      "execution_count": null,
      "outputs": [
        {
          "output_type": "stream",
          "name": "stdout",
          "text": [
            "(3000,)\n"
          ]
        }
      ]
    },
    {
      "cell_type": "code",
      "source": [
        "from google.colab import drive\n",
        "drive.mount('/content/drive')"
      ],
      "metadata": {
        "colab": {
          "base_uri": "https://localhost:8080/"
        },
        "id": "_0NrTt4eLeEw",
        "outputId": "68ec0856-2b23-46c0-d417-9aae1a168fcf"
      },
      "execution_count": null,
      "outputs": [
        {
          "output_type": "stream",
          "name": "stdout",
          "text": [
            "Mounted at /content/drive\n"
          ]
        }
      ]
    },
    {
      "cell_type": "markdown",
      "source": [
        "Prepare the data for the model.\n"
      ],
      "metadata": {
        "id": "Rp9Z_UXVCz3e"
      }
    },
    {
      "cell_type": "code",
      "source": [
        "# Αποθήκευση των δεδομένων\n",
        "final_data = np.concatenate((circle_data_array, labels.reshape(-1, 1), overlap_ratios.reshape(-1, 1)), axis=1)\n",
        "\n",
        "# Αποθήκευση σε CSV και Torch tensor\n",
        "columns = ['r1', 'r2', 'cx1', 'cy1', 'cx2', 'cy2', 'label', 'overlap_ratio']\n",
        "df = pd.DataFrame(final_data, columns=columns)\n",
        "\n",
        "# Αποθήκευση αρχείων\n",
        "np.save('data/circle_data_with_labels.npy', final_data)\n",
        "df.to_csv('data/circle_data_with_labels.csv', index=False)\n",
        "torch.save(torch.tensor(final_data, dtype=torch.float32), 'data/circles/circle_data_with_labels.pt')\n",
        "\n",
        "\n"
      ],
      "metadata": {
        "id": "UlEa-4SDCyzW"
      },
      "execution_count": null,
      "outputs": []
    },
    {
      "cell_type": "markdown",
      "source": [
        "Train - Test split for the binary model classification ( overlap or not)"
      ],
      "metadata": {
        "id": "MpBpwHPbMJQ_"
      }
    },
    {
      "cell_type": "code",
      "source": [
        "from sklearn.preprocessing import StandardScaler\n",
        "\n",
        "# ορίζω τι είναι input με x Και τι ειναι Ouput με y\n",
        "X = final_data[:,:-2]\n",
        "y = final_data[:,-2]\n",
        "\n",
        "\n",
        "\n",
        "# make a transform so i can process beytter the data for radii and coordinates\n",
        "scaler = StandardScaler()\n",
        "X_scaled = scaler.fit_transform(X)\n",
        "\n",
        "#train test split the above\n",
        "\n",
        "X_train, X_test,y_train,y_test = train_test_split(X_scaled,y,test_size = 0.2, random_state = 42)\n"
      ],
      "metadata": {
        "id": "0dtZW5lrM6YV"
      },
      "execution_count": null,
      "outputs": []
    },
    {
      "cell_type": "code",
      "source": [
        "#be sure that they are tensors\n",
        "\n",
        "X_train_tensor = torch.tensor(X_train, dtype=torch.float32)\n",
        "X_test_tensor = torch.tensor(X_test, dtype=torch.float32)\n",
        "\n",
        "y_train = torch.tensor(y_train, dtype=torch.float32)\n",
        "y_test = torch.tensor(y_test, dtype=torch.float32)\n"
      ],
      "metadata": {
        "id": "UFv2MgJV_KxJ"
      },
      "execution_count": null,
      "outputs": []
    },
    {
      "cell_type": "markdown",
      "source": [
        "Model 1 Overlap Classifier"
      ],
      "metadata": {
        "id": "b1tj0XGi_qWT"
      }
    },
    {
      "cell_type": "code",
      "source": [
        "\n",
        "class overlap_classifier(nn.Module):\n",
        "  def __init__(self):\n",
        "     super().__init__()\n",
        "     self.layer_1 = nn.Linear(in_features =6,out_features= 16)\n",
        "\n",
        "     self.layer_2 = nn.Linear(in_features =16,out_features= 8)\n",
        "\n",
        "     self.layer_3 = nn.Linear(in_features =8,out_features= 1)\n",
        "\n",
        "     self.relu = nn.ReLU()\n",
        "\n",
        "     self.sigmoid = nn.Sigmoid()\n",
        "\n",
        "\n",
        "  def forward(self, x):\n",
        "    return self.layer_3(self.relu(self.layer_2(self.relu(self.layer_1(x)))))\n",
        "\n",
        "model_1 = overlap_classifier().to(device)\n",
        "\n",
        "\n"
      ],
      "metadata": {
        "id": "4kSuz6jF_odo"
      },
      "execution_count": null,
      "outputs": []
    },
    {
      "cell_type": "markdown",
      "source": [
        "loss function and optimizer"
      ],
      "metadata": {
        "id": "3CKhHragCLLi"
      }
    },
    {
      "cell_type": "code",
      "source": [
        "\n",
        "\n",
        "optimizer = torch.optim.Adam(params = model_1.parameters(),lr = 0.1)\n",
        "\n",
        "loss_fn1 = nn.L1Loss()"
      ],
      "metadata": {
        "id": "q6gYz-SzAzMT"
      },
      "execution_count": null,
      "outputs": []
    },
    {
      "cell_type": "code",
      "source": [],
      "metadata": {
        "id": "S3gv4Ju2QQu8"
      },
      "execution_count": null,
      "outputs": []
    },
    {
      "cell_type": "code",
      "source": [
        "def accuracy_fn(y_true,y_pred):\n",
        "  correct = torch.eq(y_true,y_pred).sum().item()\n",
        "  acc = (correct/len(y_pred))*100\n",
        "  return acc"
      ],
      "metadata": {
        "id": "lyL06TWWCXsq"
      },
      "execution_count": null,
      "outputs": []
    },
    {
      "cell_type": "markdown",
      "source": [],
      "metadata": {
        "id": "sRlgUgXgSga_"
      }
    },
    {
      "cell_type": "markdown",
      "source": [
        "Train and evaluation"
      ],
      "metadata": {
        "id": "ztszwkflEY0I"
      }
    },
    {
      "cell_type": "code",
      "source": [
        "torch.manual_seed(42)\n",
        "\n",
        "epochs = 1000\n",
        "\n",
        "for epoch in range(epochs):\n",
        "\n",
        "  model_1.train()\n",
        "\n",
        "  y_logits = model_1(X_train_tensor).squeeze()\n",
        "  y_pred = torch.round(torch.sigmoid(y_logits))\n",
        "\n",
        "  loss = loss_fn1(y_logits,y_train)\n",
        "\n",
        "  acc = accuracy_fn(y_true = y_train,y_pred = y_pred)\n",
        "\n",
        "  optimizer.zero_grad()\n",
        "\n",
        "  loss.backward()\n",
        "\n",
        "  optimizer.step()\n",
        "\n",
        "  model_1.eval()\n",
        "\n",
        "  with torch.inference_mode():\n",
        "    test_logis = model_1(X_test_tensor).squeeze()\n",
        "    test_pred = torch.round(torch.sigmoid(test_logis))\n",
        "    test_loss = loss_fn1(test_logis,y_test)\n",
        "    test_acc = accuracy_fn(y_true = y_test,y_pred = test_pred)\n",
        "\n",
        "  if epoch % 100 == 0:\n",
        "    print(f\"Epoch: {epoch} | Loss: {loss:.5f} | Acc: {acc:.2f}% | Test Loss: {test_loss:.5f} | Test Acc: {test_acc:.2f}%\")\n",
        "\n"
      ],
      "metadata": {
        "colab": {
          "base_uri": "https://localhost:8080/"
        },
        "id": "ru09eJmwEWbM",
        "outputId": "6bbb0ba9-c4de-4894-c3f7-ae3778fc441a"
      },
      "execution_count": null,
      "outputs": [
        {
          "output_type": "stream",
          "name": "stdout",
          "text": [
            "Epoch: 0 | Loss: 0.08750 | Acc: 92.71% | Test Loss: 0.11227 | Test Acc: 90.00%\n",
            "Epoch: 100 | Loss: 0.08750 | Acc: 92.71% | Test Loss: 0.11227 | Test Acc: 90.00%\n",
            "Epoch: 200 | Loss: 0.08750 | Acc: 92.71% | Test Loss: 0.11227 | Test Acc: 90.00%\n",
            "Epoch: 300 | Loss: 0.08750 | Acc: 92.71% | Test Loss: 0.11227 | Test Acc: 90.00%\n",
            "Epoch: 400 | Loss: 0.08750 | Acc: 92.71% | Test Loss: 0.11227 | Test Acc: 90.00%\n",
            "Epoch: 500 | Loss: 0.08750 | Acc: 92.71% | Test Loss: 0.11227 | Test Acc: 90.00%\n",
            "Epoch: 600 | Loss: 0.08750 | Acc: 92.71% | Test Loss: 0.11227 | Test Acc: 90.00%\n",
            "Epoch: 700 | Loss: 0.08750 | Acc: 92.71% | Test Loss: 0.11227 | Test Acc: 90.00%\n",
            "Epoch: 800 | Loss: 0.08750 | Acc: 92.71% | Test Loss: 0.11227 | Test Acc: 90.00%\n",
            "Epoch: 900 | Loss: 0.08750 | Acc: 92.71% | Test Loss: 0.11227 | Test Acc: 90.00%\n"
          ]
        }
      ]
    },
    {
      "cell_type": "markdown",
      "source": [
        "Graph to see our model"
      ],
      "metadata": {
        "id": "poLjmZwyWGPz"
      }
    },
    {
      "cell_type": "markdown",
      "source": [
        "Model for overlap ratio prediction"
      ],
      "metadata": {
        "id": "XNvaJ0izWJko"
      }
    },
    {
      "cell_type": "code",
      "source": [],
      "metadata": {
        "id": "KscfRvrrOvu0"
      },
      "execution_count": null,
      "outputs": []
    },
    {
      "cell_type": "code",
      "source": [
        "class overlap_calculator(nn.Module):\n",
        "  def __init__(self):\n",
        "    super().__init__()\n",
        "    self.layer_1 = nn.Linear(6, 16)\n",
        "\n",
        "\n",
        "    self.layer_2 = nn.Linear(16, 16)\n",
        "\n",
        "\n",
        "    self.layer_3 = nn.Linear(16, 1)\n",
        "\n",
        "    self.relu = nn.ReLU()\n",
        "\n",
        "  def forward(self, x):\n",
        "\n",
        "      return self.layer_3(self.relu(self.layer_2(self.relu(self.layer_1(x)))))\n",
        "\n"
      ],
      "metadata": {
        "id": "XHNt-vCYWMHJ"
      },
      "execution_count": null,
      "outputs": []
    },
    {
      "cell_type": "code",
      "source": [
        "loss_fn2 = nn.SmoothL1Loss()\n",
        "optimizer = torch.optim.Adam(params = model_2.parameters(),lr = 0.1)\n"
      ],
      "metadata": {
        "id": "MQNiUxG_YJDK"
      },
      "execution_count": null,
      "outputs": []
    },
    {
      "cell_type": "code",
      "source": [
        "y_ratio = final_data[:,-1]\n",
        "\n",
        "\n",
        "X_train , X_test , y_train_ratio , y_test_ratio = train_test_split(X_scaled,y_ratio,test_size = 0.2,random_state = 42)\n",
        "\n",
        "X_train_tensor = torch.tensor(X_train, dtype=torch.float32)\n",
        "X_test_tensor = torch.tensor(X_test, dtype=torch.float32)\n",
        "\n",
        "y_train_ratio = torch.tensor(y_train_ratio, dtype=torch.float32)\n",
        "y_test_ratio = torch.tensor(y_test_ratio, dtype=torch.float32)"
      ],
      "metadata": {
        "id": "FJMokW5bZZEU"
      },
      "execution_count": null,
      "outputs": []
    },
    {
      "cell_type": "code",
      "source": [
        "import torch\n",
        "\n",
        "# Set random seed for reproducibility\n",
        "torch.manual_seed(42)\n",
        "\n",
        "epoch_count = []\n",
        "train_losses = []\n",
        "test_losses = []\n",
        "mae_train_list = []\n",
        "mae_test_list = []\n",
        "\n",
        "# Training hyperparameters\n",
        "num_epochs = 1000\n",
        "\n",
        "# Assuming loss_fn2 = nn.MSELoss() for regression\n",
        "for epoch in range(num_epochs):\n",
        "    # Training phase\n",
        "    model_2.train()\n",
        "\n",
        "    y_pred = model_2(X_train_tensor).squeeze()  # Predictions\n",
        "\n",
        "    loss = loss_fn2(y_pred, y_train_ratio)  # Regression loss (e.g., MSE)\n",
        "    mae_train = torch.mean(torch.abs(y_pred - y_train_ratio)).item()\n",
        "\n",
        "    # Backpropagation and optimization\n",
        "    optimizer.zero_grad()\n",
        "    loss.backward()  # Fixed: was 'loss.backward()' before\n",
        "    optimizer.step()\n",
        "\n",
        "    # Evaluation phase\n",
        "    model_2.eval()\n",
        "    with torch.inference_mode():\n",
        "        test_pred = model_2(X_test_tensor).squeeze()\n",
        "        test_loss = loss_fn2(test_pred, y_test_ratio)\n",
        "\n",
        "        # Using Mean Absolute Error as a performance metric for regression\n",
        "        mae_test = torch.mean(torch.abs(test_pred - y_test_ratio)).item()\n",
        "\n",
        "\n",
        "    epoch_count.append(epoch)\n",
        "    train_losses.append(loss.item())\n",
        "    test_losses.append(test_loss.item())\n",
        "    mae_train_list.append(mae_train)\n",
        "    mae_test_list.append(mae_test)\n",
        "\n",
        "\n",
        "\n",
        "    # Logging every 100 epochs\n",
        "    if epoch % 100 == 0:\n",
        "        print(f\"Epoch: {epoch} | Train Loss: {loss:.5f} | Test Loss: {test_loss:.5f} | MAE: {mae_test:.5f}\")\n",
        "\n"
      ],
      "metadata": {
        "colab": {
          "base_uri": "https://localhost:8080/"
        },
        "id": "-BxRA11BYkRn",
        "outputId": "386284ec-21ef-4730-b1a3-60b2bd9872af"
      },
      "execution_count": null,
      "outputs": [
        {
          "output_type": "stream",
          "name": "stdout",
          "text": [
            "Epoch: 0 | Train Loss: 0.32085 | Test Loss: 0.51750 | MAE: 0.94362\n",
            "Epoch: 100 | Train Loss: 0.32536 | Test Loss: 0.36129 | MAE: 0.59940\n",
            "Epoch: 200 | Train Loss: 0.33023 | Test Loss: 0.36538 | MAE: 0.60630\n",
            "Epoch: 300 | Train Loss: 0.32959 | Test Loss: 0.37160 | MAE: 0.61831\n",
            "Epoch: 400 | Train Loss: 0.32505 | Test Loss: 0.36249 | MAE: 0.60677\n",
            "Epoch: 500 | Train Loss: 0.32492 | Test Loss: 0.36934 | MAE: 0.60696\n",
            "Epoch: 600 | Train Loss: 0.32646 | Test Loss: 0.36745 | MAE: 0.62067\n",
            "Epoch: 700 | Train Loss: 0.32601 | Test Loss: 0.36296 | MAE: 0.58848\n",
            "Epoch: 800 | Train Loss: 0.32695 | Test Loss: 0.36511 | MAE: 0.61209\n",
            "Epoch: 900 | Train Loss: 0.33102 | Test Loss: 0.37362 | MAE: 0.62633\n"
          ]
        }
      ]
    },
    {
      "cell_type": "markdown",
      "source": [
        "Call for an image  with th real values and the model values"
      ],
      "metadata": {
        "id": "382M9Eubj6Bc"
      }
    },
    {
      "cell_type": "code",
      "source": [
        "import numpy as np\n",
        "import torch\n",
        "import matplotlib.pyplot as plt\n",
        "\n",
        "# Assuming models are already loaded and device is set\n",
        "# model_1 = torch.load('model_1.pth')\n",
        "# model_2 = torch.load('model_2.pth')\n",
        "# device = torch.device('cuda' if torch.cuda.is_available() else 'cpu')\n",
        "\n",
        "# Input from the user\n",
        "r1 = float(input(\"Enter the value of r1: \"))\n",
        "r2 = float(input(\"Enter the value of r2: \"))\n",
        "x1 = float(input(\"Enter the value of cx1: \"))\n",
        "y1 = float(input(\"Enter the value of cy1: \"))\n",
        "x2 = float(input(\"Enter the value of cx2: \"))\n",
        "y2 = float(input(\"Enter the value of cy2: \"))\n",
        "\n",
        "# Function to calculate real overlap and ratio\n",
        "def real_overlap_and_ratio(r1, r2, x1, y1, x2, y2):\n",
        "    D = np.sqrt((x2 - x1) ** 2 + (y2 - y1) ** 2)  # Distance between centers\n",
        "    R = r1 + r2  # Sum of radii\n",
        "\n",
        "    if R != 0:\n",
        "        if D == 0 and r1 == r2:  # Perfectly overlapping circles\n",
        "            overlap_ratio = 1\n",
        "        elif D <= np.abs(r1 - r2):  # One circle inside the other\n",
        "            overlap_ratio = 1\n",
        "        else:\n",
        "            overlap_ratio = D / R\n",
        "    else:\n",
        "        overlap_ratio = 0\n",
        "\n",
        "    label = 1 if overlap_ratio < 1 else 0  # Overlap condition\n",
        "\n",
        "    return label, overlap_ratio\n",
        "\n",
        "# Prediction function\n",
        "def predict(r1, r2, x1, y1, x2, y2):\n",
        "    real_overlap, real_overlap_ratio = real_overlap_and_ratio(r1, r2, x1, y1, x2, y2)\n",
        "\n",
        "    input_data = torch.tensor([r1, r2, x1, y1, x2, y2], dtype=torch.float32).unsqueeze(0).to(device)\n",
        "\n",
        "    # Model 1: Overlap Classifier\n",
        "    model_1.eval()\n",
        "    with torch.inference_mode():\n",
        "        y_logits = model_1(input_data).squeeze()\n",
        "        predicted_overlap = torch.round(torch.sigmoid(y_logits)).item()\n",
        "\n",
        "    # Model 2: Overlap Ratio Regressor\n",
        "    model_2.eval()\n",
        "    with torch.inference_mode():\n",
        "        predicted_overlap_ratio = model_2(input_data).squeeze().item()\n",
        "\n",
        "    # Display Results\n",
        "    print(\"\\n--- Results ---\")\n",
        "    print(f\"Actual Overlap: {'Yes' if real_overlap == 1 else 'No'} | Predicted: {'Yes' if predicted_overlap == 1 else 'No'}\")\n",
        "    print(f\"Actual Overlap Ratio: {real_overlap_ratio:.4f} | Predicted Ratio: {predicted_overlap_ratio:.4f}\")\n",
        "\n",
        "    # Visualization\n",
        "    fig, ax = plt.subplots()\n",
        "    circle1 = plt.Circle((x1, y1), r1, color='blue', fill=False, linewidth=2, label='Circle 1')\n",
        "    circle2 = plt.Circle((x2, y2), r2, color='red', fill=False, linewidth=2, label='Circle 2')\n",
        "    ax.add_artist(circle1)\n",
        "    ax.add_artist(circle2)\n",
        "\n",
        "    plt.xlim(min(x1, x2) - max(r1, r2) - 10, max(x1, x2) + max(r1, r2) + 10)\n",
        "    plt.ylim(min(y1, y2) - max(r1, r2) - 10, max(y1, y2) + max(r1, r2) + 10)\n",
        "    plt.gca().set_aspect('equal', adjustable='box')\n",
        "\n",
        "    plt.title(f\"Actual Overlap: {'Yes' if real_overlap == 1 else 'No'} | Predicted: {'Yes' if predicted_overlap == 1 else 'No'}\\n\"\n",
        "              f\"Actual Ratio: {real_overlap_ratio:.4f} | Predicted Ratio: {predicted_overlap_ratio:.4f}\")\n",
        "    plt.show()\n",
        "\n",
        "# Run the prediction\n",
        "predict(r1, r2, x1, y1, x2, y2)\n",
        "\n"
      ],
      "metadata": {
        "colab": {
          "base_uri": "https://localhost:8080/",
          "height": 647
        },
        "id": "Jg5AnTi0d593",
        "outputId": "eae4ec38-4563-47e0-ad1b-6ff2b4cfb4c9"
      },
      "execution_count": null,
      "outputs": [
        {
          "output_type": "stream",
          "name": "stdout",
          "text": [
            "Enter the value of r1: 5\n",
            "Enter the value of r2: 19\n",
            "Enter the value of cx1: -1\n",
            "Enter the value of cy1: 2\n",
            "Enter the value of cx2: -7\n",
            "Enter the value of cy2: 12\n",
            "\n",
            "--- Results ---\n",
            "Actual Overlap: No | Predicted: No\n",
            "Actual Overlap Ratio: 1.0000 | Predicted Ratio: -0.0784\n"
          ]
        },
        {
          "output_type": "display_data",
          "data": {
            "text/plain": [
              "<Figure size 640x480 with 1 Axes>"
            ],
            "image/png": "[encoded data removed]"
          },
          "metadata": {}
        }
      ]
    }
  ]
}