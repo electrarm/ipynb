{
  "nbformat": 4,
  "nbformat_minor": 0,
  "metadata": {
    "colab": {
      "provenance": [],
      "authorship_tag": "ABX9TyOQU1qx8/JKlw9Jh+6qXEmH",
      "include_colab_link": true
    },
    "kernelspec": {
      "name": "python3",
      "display_name": "Python 3"
    },
    "language_info": {
      "name": "python"
    }
  },
  "cells": [
    {
      "cell_type": "markdown",
      "metadata": {
        "id": "view-in-github",
        "colab_type": "text"
      },
      "source": [
        "<a href=\"https://colab.research.google.com/github/electrarm/ipynb/blob/main/circles.ipynb\" target=\"_parent\"><img src=\"https://colab.research.google.com/assets/colab-badge.svg\" alt=\"Open In Colab\"/></a>"
      ]
    },
    {
      "cell_type": "code",
      "execution_count": 6,
      "metadata": {
        "colab": {
          "base_uri": "https://localhost:8080/",
          "height": 35
        },
        "id": "ZrQT6CNMnyPw",
        "outputId": "c7e5c72f-1480-4a5e-fda8-1b2a4bbee04a"
      },
      "outputs": [
        {
          "output_type": "execute_result",
          "data": {
            "text/plain": [
              "'cpu'"
            ],
            "application/vnd.google.colaboratory.intrinsic+json": {
              "type": "string"
            }
          },
          "metadata": {},
          "execution_count": 6
        }
      ],
      "source": [
        "import torch\n",
        "from torch import nn\n",
        "import numpy as np\n",
        "import matplotlib.pyplot as plt\n",
        "from sklearn.datasets import make_circles\n",
        "from sklearn.model_selection import train_test_split\n",
        "import pandas as pd\n",
        "import torchvision\n",
        "from torchvision import datasets\n",
        "from torchvision import transforms\n",
        "from torchvision.transforms import ToTensor\n",
        "\n",
        "device = \"cuda\" if torch.cuda.is_available() else \"cpu\"\n",
        "\n",
        "device"
      ]
    },
    {
      "cell_type": "code",
      "source": [
        "import requests\n",
        "import zipfile\n",
        "from pathlib import Path"
      ],
      "metadata": {
        "id": "fTWUMaados3h"
      },
      "execution_count": 7,
      "outputs": []
    },
    {
      "cell_type": "markdown",
      "source": [
        "# 1. Code for one circle"
      ],
      "metadata": {
        "id": "0rN_eCdstFhx"
      }
    },
    {
      "cell_type": "code",
      "source": [
        "pi = np.pi\n",
        "\n",
        "def plot_circle(r=None) :\n",
        "\n",
        "  theta = np.linspace(0,2*pi,100)\n",
        "\n",
        "  if r is None:\n",
        "    r = int(input(\"Enter the radius:\"))\n",
        "\n",
        "  x = r*np.cos(theta)\n",
        "  y = r*np.sin(theta)\n",
        "\n",
        "  max_x = np.max(x)\n",
        "  max_y = np.max(y)\n",
        "\n",
        "  norm_x = x/max_x\n",
        "  norm_y = y/max_y\n",
        "\n",
        "  plt.figure(figsize = (3,5))\n",
        "  plt.plot(norm_x,norm_y)"
      ],
      "metadata": {
        "id": "Bm_v2DHjtFOb"
      },
      "execution_count": 8,
      "outputs": []
    },
    {
      "cell_type": "code",
      "source": [
        "plot_circle(5)"
      ],
      "metadata": {
        "colab": {
          "base_uri": "https://localhost:8080/",
          "height": 445
        },
        "id": "dBIVDEshwFya",
        "outputId": "b1890179-fe33-4bf6-fb01-f4851390ecb6"
      },
      "execution_count": 9,
      "outputs": [
        {
          "output_type": "display_data",
          "data": {
            "text/plain": [
              "<Figure size 300x500 with 1 Axes>"
            ],
            "image/png": "[encoded data removed]"
          },
          "metadata": {}
        }
      ]
    },
    {
      "cell_type": "markdown",
      "source": [
        "Make two circles"
      ],
      "metadata": {
        "id": "dAYVVS_awbF_"
      }
    },
    {
      "cell_type": "code",
      "source": [
        "import numpy as np\n",
        "import matplotlib.pyplot as plt\n",
        "from math import pi\n",
        "\n",
        "def plot_circles(r1=None, r2=None, cx1=None, cy1=None, cx2=None, cy2=None , save_path = None):\n",
        "    theta = np.linspace(0, 2 * pi, 100)\n",
        "\n",
        "\n",
        "    if r1 is None:\n",
        "        r1 = int(input(\"Enter the radius for circle one: \"))\n",
        "    if cx1 is None or cy1 is None:\n",
        "        cx1, cy1 = map(int, input(\"Enter the center coordinates for circle one (e.g., 0 0): \").split())\n",
        "\n",
        "\n",
        "    if r2 is None:\n",
        "        r2 = int(input(\"Enter the radius for circle two: \"))\n",
        "    if cx2 is None or cy2 is None:\n",
        "        cx2, cy2 = map(int, input(\"Enter the center coordinates for circle two (e.g., 2 3): \").split())\n",
        "\n",
        "    x1 = cx1 + r1 * np.cos(theta)\n",
        "    y1 = cy1 + r1 * np.sin(theta)\n",
        "\n",
        "\n",
        "    x2 = cx2 + r2 * np.cos(theta)\n",
        "    y2 = cy2 + r2 * np.sin(theta)\n",
        "\n",
        "\n",
        "    plt.figure(figsize=(6, 6))\n",
        "    plt.plot(x1, y1, label=f\"Circle 1 (r={r1}, center=({cx1}, {cy1}))\", color=\"red\")\n",
        "    plt.plot(x2, y2, label=f\"Circle 2 (r={r2}, center=({cx2}, {cy2}))\", color=\"blue\")\n",
        "\n",
        "    # Equal aspect ratio to keep circles round\n",
        "    plt.gca().set_aspect('equal')\n",
        "\n",
        "\n",
        "    plt.grid(True, linestyle='--', alpha=0.5)\n",
        "    plt.legend()\n",
        "\n",
        "\n",
        "    ax = plt.gca()\n",
        "    ax.spines['left'].set_position('center')\n",
        "    ax.spines['bottom'].set_position('center')\n",
        "    ax.spines['right'].set_color('none')\n",
        "    ax.spines['top'].set_color('none')\n",
        "\n",
        "    if save_path:\n",
        "      plt.savefig(save_path)\n",
        "      plt.close()\n",
        "    else:\n",
        "      plt.show()\n",
        "\n",
        "\n",
        "\n"
      ],
      "metadata": {
        "id": "0UOs7_tPwaLm"
      },
      "execution_count": 10,
      "outputs": []
    },
    {
      "cell_type": "markdown",
      "source": [
        "Make the directory wich we are gonna save the images and make the images"
      ],
      "metadata": {
        "id": "iENGEBwNQp2F"
      }
    },
    {
      "cell_type": "code",
      "source": [
        "import os\n",
        "from random import randint,uniform"
      ],
      "metadata": {
        "id": "_9zovYwVQt1b"
      },
      "execution_count": 11,
      "outputs": []
    },
    {
      "cell_type": "code",
      "source": [
        "from pathlib import Path\n",
        "\n",
        "data_path = Path(\"data/\")\n",
        "image_path = data_path / \"circles\"\n",
        "\n",
        "if image_path.is_dir():\n",
        "    print(f\"{image_path} directory already exists\")\n",
        "else:\n",
        "    print(f\"Creating {image_path} directory\")\n",
        "    image_path.mkdir(parents=True, exist_ok=True)\n"
      ],
      "metadata": {
        "colab": {
          "base_uri": "https://localhost:8080/"
        },
        "id": "mvAtMMVfxgIr",
        "outputId": "956d592e-e4aa-482f-f624-2282068b02d8"
      },
      "execution_count": 12,
      "outputs": [
        {
          "output_type": "stream",
          "name": "stdout",
          "text": [
            "Creating data/circles directory\n"
          ]
        }
      ]
    },
    {
      "cell_type": "code",
      "source": [
        "circle_data_list = []\n",
        "\n",
        "for i in range(3000):\n",
        "\n",
        "    r1 = np.random.uniform(0.01, 10)\n",
        "    r2 = np.random.uniform(0.01, 10)\n",
        "\n",
        "    cx1 = np.random.uniform(-10, 10)\n",
        "    cy1 = np.random.uniform(-10, 10)\n",
        "\n",
        "    cx2 = np.random.uniform(-10, 10)\n",
        "    cy2 = np.random.uniform(-10, 10)\n",
        "\n",
        "    file_path = os.path.join(image_path, f\"circle_{i+1}.png\")\n",
        "\n",
        "    plot_circles(r1, r2, cx1, cy1, cx2, cy2, file_path)\n",
        "\n",
        "\n",
        "    circle_data_list.append([r1, r2, cx1, cy1, cx2, cy2])\n",
        "\n",
        "\n",
        "\n"
      ],
      "metadata": {
        "id": "9YuQq6KESKyp"
      },
      "execution_count": 13,
      "outputs": []
    },
    {
      "cell_type": "code",
      "source": [
        "import zipfile\n",
        "import os\n",
        "import numpy as np\n",
        "\n",
        "\n",
        "zip_filename = \"/content/circles_images.zip\"\n",
        "\n",
        "with zipfile.ZipFile(zip_filename, 'w') as zipf:\n",
        "\n",
        "    for i in range(3000):\n",
        "        file_path = os.path.join(str(image_path), f\"circle_{i+1}.png\")\n",
        "        zipf.write(file_path, os.path.basename(file_path))\n",
        "\n",
        "print(f\"Images are zipped into {zip_filename}\")\n",
        "\n",
        "\n",
        "\n",
        "np.save(os.path.join(str(image_path), \"circle_data.npy\"), np.array(circle_data_list))\n",
        "\n",
        "\n",
        "data = np.load(os.path.join(str(image_path), \"circle_data.npy\"))\n",
        "print(data.shape)\n",
        "\n"
      ],
      "metadata": {
        "colab": {
          "base_uri": "https://localhost:8080/"
        },
        "id": "qQ_-HrH6dgSX",
        "outputId": "0249d747-302c-400a-f94b-856f57b929a8"
      },
      "execution_count": 15,
      "outputs": [
        {
          "output_type": "stream",
          "name": "stdout",
          "text": [
            "Images are zipped into /content/circles_images.zip\n",
            "(3000, 6)\n"
          ]
        }
      ]
    },
    {
      "cell_type": "markdown",
      "source": [
        "Download the images at my pc"
      ],
      "metadata": {
        "id": "tFe5kpXaCmAR"
      }
    },
    {
      "cell_type": "code",
      "source": [
        "from google.colab import files\n",
        "files.download(zip_filename)"
      ],
      "metadata": {
        "colab": {
          "base_uri": "https://localhost:8080/",
          "height": 34
        },
        "id": "M96lr2HRLwAQ",
        "outputId": "a12e62d0-db25-460e-8c77-6271c679507c"
      },
      "execution_count": 16,
      "outputs": [
        {
          "output_type": "display_data",
          "data": {
            "text/plain": [
              "<IPython.core.display.Javascript object>"
            ],
            "application/javascript": [
              "\n",
              "    async function download(id, filename, size) {\n",
              "      if (!google.colab.kernel.accessAllowed) {\n",
              "        return;\n",
              "      }\n",
              "      const div = document.createElement('div');\n",
              "      const label = document.createElement('label');\n",
              "      label.textContent = `Downloading \"${filename}\": `;\n",
              "      div.appendChild(label);\n",
              "      const progress = document.createElement('progress');\n",
              "      progress.max = size;\n",
              "      div.appendChild(progress);\n",
              "      document.body.appendChild(div);\n",
              "\n",
              "      const buffers = [];\n",
              "      let downloaded = 0;\n",
              "\n",
              "      const channel = await google.colab.kernel.comms.open(id);\n",
              "      // Send a message to notify the kernel that we're ready.\n",
              "      channel.send({})\n",
              "\n",
              "      for await (const message of channel.messages) {\n",
              "        // Send a message to notify the kernel that we're ready.\n",
              "        channel.send({})\n",
              "        if (message.buffers) {\n",
              "          for (const buffer of message.buffers) {\n",
              "            buffers.push(buffer);\n",
              "            downloaded += buffer.byteLength;\n",
              "            progress.value = downloaded;\n",
              "          }\n",
              "        }\n",
              "      }\n",
              "      const blob = new Blob(buffers, {type: 'application/binary'});\n",
              "      const a = document.createElement('a');\n",
              "      a.href = window.URL.createObjectURL(blob);\n",
              "      a.download = filename;\n",
              "      div.appendChild(a);\n",
              "      a.click();\n",
              "      div.remove();\n",
              "    }\n",
              "  "
            ]
          },
          "metadata": {}
        },
        {
          "output_type": "display_data",
          "data": {
            "text/plain": [
              "<IPython.core.display.Javascript object>"
            ],
            "application/javascript": [
              "download(\"download_cf32a17d-b833-4226-a81e-80459558121e\", \"circles_images.zip\", 139162831)"
            ]
          },
          "metadata": {}
        }
      ]
    },
    {
      "cell_type": "markdown",
      "source": [
        "Become one with the data.\n",
        "\n",
        "So essentially what we have is some radius and some (x,y) coordinates . Let's see the lenght of the and their type . (they are python and not  numpy list so we have to convert them in order to process them. To use them at he model i will make them tensors)"
      ],
      "metadata": {
        "id": "tl7EQmw3L1dU"
      }
    },
    {
      "cell_type": "code",
      "source": [
        "circle_data_array = np.array(circle_data_list,dtype = np.float32)\n",
        "print(circle_data_array.shape)\n",
        "r1 = circle_data_array[:,0]\n",
        "x1 = circle_data_array[:,1]\n",
        "y1 = circle_data_array[:,2]\n",
        "r2 = circle_data_array[:,3]\n",
        "x2 = circle_data_array[:,4]\n",
        "y2 = circle_data_array[:,5]\n",
        "\n",
        "print(r1[:10],len(r1),r1.shape,circle_data_array.dtype)"
      ],
      "metadata": {
        "colab": {
          "base_uri": "https://localhost:8080/"
        },
        "id": "8fZWRRAkL00V",
        "outputId": "dace44fd-e699-4357-d752-d3002d112197"
      },
      "execution_count": 17,
      "outputs": [
        {
          "output_type": "stream",
          "name": "stdout",
          "text": [
            "(3000, 6)\n",
            "[4.5601935 6.3499026 2.1089847 8.252413  6.379     5.175563  9.596988\n",
            " 9.042758  4.51533   4.944849 ] 3000 (3000,) float32\n"
          ]
        }
      ]
    },
    {
      "cell_type": "markdown",
      "source": [
        "Turn them into tensor to use them at the model"
      ],
      "metadata": {
        "id": "xqGBxme3BFoj"
      }
    },
    {
      "cell_type": "code",
      "source": [
        "circle_data_tensor = torch.from_numpy(circle_data_array)\n",
        "\n",
        "r1 = circle_data_tensor[:,0]\n",
        "x1 = circle_data_tensor[:,1]\n",
        "y1 = circle_data_tensor[:,2]\n",
        "r2 = circle_data_tensor[:,3]\n",
        "x2 = circle_data_tensor[:,4]\n",
        "y2 = circle_data_tensor[:,5]\n",
        "\n",
        "\n",
        "print(r1[:10],type(r1),r1.dtype)"
      ],
      "metadata": {
        "colab": {
          "base_uri": "https://localhost:8080/"
        },
        "id": "TELcq3MfBB4h",
        "outputId": "076c536a-6ab5-4c50-f1b4-22a7db811f78"
      },
      "execution_count": 18,
      "outputs": [
        {
          "output_type": "stream",
          "name": "stdout",
          "text": [
            "tensor([4.5602, 6.3499, 2.1090, 8.2524, 6.3790, 5.1756, 9.5970, 9.0428, 4.5153,\n",
            "        4.9448]) <class 'torch.Tensor'> torch.float32\n"
          ]
        }
      ]
    },
    {
      "cell_type": "markdown",
      "source": [
        "Make the labels and the ratios for the images"
      ],
      "metadata": {
        "id": "LZedj2pAEkyb"
      }
    },
    {
      "cell_type": "code",
      "source": [
        "labels = []\n",
        "overlap_ratios = []\n",
        "\n",
        "for data in circle_data_array:\n",
        "    r1, r2, x1, y1, x2, y2 = data\n",
        "\n",
        "\n",
        "    D = np.sqrt((x2 - x1)**2 + (y2 - y1)**2)\n",
        "\n",
        "\n",
        "    R = r1 + r2\n",
        "\n",
        "\n",
        "    if R != 0:\n",
        "      if D == 0 and np.abs(r1-r2):\n",
        "        overlap_ratio = 1\n",
        "      elif D <= np.abs(r1-r2):\n",
        "        overlap_ratio = 1\n",
        "      else:\n",
        "        overlap_ratio = D/R\n",
        "    else:\n",
        "        overlap_ratio = 0\n",
        "\n",
        "    overlap_ratios.append(overlap_ratio)\n",
        "\n",
        "\n",
        "    if overlap_ratio < 1:\n",
        "        labels.append(1)\n",
        "    else:\n",
        "        labels.append(0)\n",
        "\n",
        "\n",
        "labels = np.array(labels, dtype=np.float32)\n",
        "overlap_ratios = np.array(overlap_ratios, dtype=np.float32)\n",
        "\n",
        "print(overlap_ratios.shape)"
      ],
      "metadata": {
        "colab": {
          "base_uri": "https://localhost:8080/"
        },
        "id": "W8H9G4yYEjPc",
        "outputId": "5566380e-0564-4212-d136-819504a5b9bd"
      },
      "execution_count": 19,
      "outputs": [
        {
          "output_type": "stream",
          "name": "stdout",
          "text": [
            "(3000,)\n"
          ]
        }
      ]
    },
    {
      "cell_type": "code",
      "source": [
        "from google.colab import drive\n",
        "drive.mount('/content/drive')"
      ],
      "metadata": {
        "colab": {
          "base_uri": "https://localhost:8080/"
        },
        "id": "_0NrTt4eLeEw",
        "outputId": "82283e9c-52cb-4f28-ef3e-882008fea63e"
      },
      "execution_count": 20,
      "outputs": [
        {
          "output_type": "stream",
          "name": "stdout",
          "text": [
            "Mounted at /content/drive\n"
          ]
        }
      ]
    },
    {
      "cell_type": "markdown",
      "source": [
        "Prepare the data for the model.\n"
      ],
      "metadata": {
        "id": "Rp9Z_UXVCz3e"
      }
    },
    {
      "cell_type": "code",
      "source": [
        "# Αποθήκευση των δεδομένων\n",
        "final_data = np.concatenate((circle_data_array, labels.reshape(-1, 1), overlap_ratios.reshape(-1, 1)), axis=1)\n",
        "\n",
        "# Αποθήκευση σε CSV και Torch tensor\n",
        "columns = ['r1', 'r2', 'cx1', 'cy1', 'cx2', 'cy2', 'label', 'overlap_ratio']\n",
        "df = pd.DataFrame(final_data, columns=columns)\n",
        "\n",
        "# Αποθήκευση αρχείων\n",
        "np.save('data/circle_data_with_labels.npy', final_data)\n",
        "df.to_csv('data/circle_data_with_labels.csv', index=False)\n",
        "torch.save(torch.tensor(final_data, dtype=torch.float32), 'data/circles/circle_data_with_labels.pt')\n",
        "\n",
        "\n"
      ],
      "metadata": {
        "id": "UlEa-4SDCyzW"
      },
      "execution_count": 21,
      "outputs": []
    },
    {
      "cell_type": "markdown",
      "source": [
        "Train - Test split for the binary model classification ( overlap or not)"
      ],
      "metadata": {
        "id": "MpBpwHPbMJQ_"
      }
    },
    {
      "cell_type": "code",
      "source": [
        "from sklearn.preprocessing import StandardScaler\n",
        "\n",
        "# ορίζω τι είναι input με x Και τι ειναι Ouput με y\n",
        "X = final_data[:,:-2]\n",
        "y = final_data[:,-2]\n",
        "\n",
        "\n",
        "\n",
        "# make a transform so i can process beytter the data for radii and coordinates\n",
        "scaler = StandardScaler()\n",
        "X_scaled = scaler.fit_transform(X)\n",
        "\n",
        "#train test split the above\n",
        "\n",
        "X_train, X_test,y_train,y_test = train_test_split(X_scaled,y,test_size = 0.2, random_state = 42)\n"
      ],
      "metadata": {
        "id": "0dtZW5lrM6YV"
      },
      "execution_count": 22,
      "outputs": []
    },
    {
      "cell_type": "code",
      "source": [
        "#be sure that they are tensors\n",
        "\n",
        "X_train_tensor = torch.tensor(X_train, dtype=torch.float32)\n",
        "X_test_tensor = torch.tensor(X_test, dtype=torch.float32)\n",
        "\n",
        "y_train = torch.tensor(y_train, dtype=torch.float32)\n",
        "y_test = torch.tensor(y_test, dtype=torch.float32)\n"
      ],
      "metadata": {
        "id": "UFv2MgJV_KxJ"
      },
      "execution_count": 23,
      "outputs": []
    },
    {
      "cell_type": "markdown",
      "source": [
        "Model 1 Overlap Classifier"
      ],
      "metadata": {
        "id": "b1tj0XGi_qWT"
      }
    },
    {
      "cell_type": "code",
      "source": [
        "\n",
        "class overlap_classifier(nn.Module):\n",
        "  def __init__(self):\n",
        "     super().__init__()\n",
        "     self.layer_1 = nn.Linear(in_features =6,out_features= 16)\n",
        "\n",
        "     self.layer_2 = nn.Linear(in_features =16,out_features= 8)\n",
        "\n",
        "     self.layer_3 = nn.Linear(in_features =8,out_features= 1)\n",
        "\n",
        "     self.relu = nn.ReLU()\n",
        "\n",
        "     self.sigmoid = nn.Sigmoid()\n",
        "\n",
        "\n",
        "  def forward(self, x):\n",
        "    return self.layer_3(self.relu(self.layer_2(self.relu(self.layer_1(x)))))\n",
        "\n",
        "model_1 = overlap_classifier().to(device)\n",
        "\n",
        "\n"
      ],
      "metadata": {
        "id": "4kSuz6jF_odo"
      },
      "execution_count": 24,
      "outputs": []
    },
    {
      "cell_type": "markdown",
      "source": [
        "loss function and optimizer"
      ],
      "metadata": {
        "id": "3CKhHragCLLi"
      }
    },
    {
      "cell_type": "code",
      "source": [
        "\n",
        "\n",
        "optimizer = torch.optim.Adam(params = model_1.parameters(),lr = 0.1)\n",
        "\n",
        "loss_fn1 = nn.L1Loss()"
      ],
      "metadata": {
        "id": "q6gYz-SzAzMT"
      },
      "execution_count": 25,
      "outputs": []
    },
    {
      "cell_type": "code",
      "source": [],
      "metadata": {
        "id": "S3gv4Ju2QQu8"
      },
      "execution_count": 25,
      "outputs": []
    },
    {
      "cell_type": "code",
      "source": [
        "def accuracy_fn(y_true,y_pred):\n",
        "  correct = torch.eq(y_true,y_pred).sum().item()\n",
        "  acc = (correct/len(y_pred))*100\n",
        "  return acc"
      ],
      "metadata": {
        "id": "lyL06TWWCXsq"
      },
      "execution_count": 26,
      "outputs": []
    },
    {
      "cell_type": "markdown",
      "source": [],
      "metadata": {
        "id": "sRlgUgXgSga_"
      }
    },
    {
      "cell_type": "markdown",
      "source": [
        "Train and evaluation"
      ],
      "metadata": {
        "id": "ztszwkflEY0I"
      }
    },
    {
      "cell_type": "code",
      "source": [
        "torch.manual_seed(42)\n",
        "\n",
        "epochs = 1000\n",
        "\n",
        "for epoch in range(epochs):\n",
        "\n",
        "  model_1.train()\n",
        "\n",
        "  y_logits = model_1(X_train_tensor).squeeze()\n",
        "  y_pred = torch.round(torch.sigmoid(y_logits))\n",
        "\n",
        "  loss = loss_fn1(y_logits,y_train)\n",
        "\n",
        "  acc = accuracy_fn(y_true = y_train,y_pred = y_pred)\n",
        "\n",
        "  optimizer.zero_grad()\n",
        "\n",
        "  loss.backward()\n",
        "\n",
        "  optimizer.step()\n",
        "\n",
        "  model_1.eval()\n",
        "\n",
        "  with torch.inference_mode():\n",
        "    test_logis = model_1(X_test_tensor).squeeze()\n",
        "    test_pred = torch.round(torch.sigmoid(test_logis))\n",
        "    test_loss = loss_fn1(test_logis,y_test)\n",
        "    test_acc = accuracy_fn(y_true = y_test,y_pred = test_pred)\n",
        "\n",
        "  if epoch % 100 == 0:\n",
        "    print(f\"Epoch: {epoch} | Loss: {loss:.5f} | Acc: {acc:.2f}% | Test Loss: {test_loss:.5f} | Test Acc: {test_acc:.2f}%\")\n",
        "\n"
      ],
      "metadata": {
        "colab": {
          "base_uri": "https://localhost:8080/"
        },
        "id": "ru09eJmwEWbM",
        "outputId": "1e4a4f19-d162-4512-9ea1-532b9c0a9fb6"
      },
      "execution_count": 27,
      "outputs": [
        {
          "output_type": "stream",
          "name": "stdout",
          "text": [
            "Epoch: 0 | Loss: 0.48560 | Acc: 39.88% | Test Loss: 0.74873 | Test Acc: 64.83%\n",
            "Epoch: 100 | Loss: 0.19371 | Acc: 89.92% | Test Loss: 0.14278 | Test Acc: 91.50%\n",
            "Epoch: 200 | Loss: 0.10466 | Acc: 40.00% | Test Loss: 0.11500 | Test Acc: 92.33%\n",
            "Epoch: 300 | Loss: 0.08787 | Acc: 90.96% | Test Loss: 0.11446 | Test Acc: 37.83%\n",
            "Epoch: 400 | Loss: 0.08698 | Acc: 91.46% | Test Loss: 0.09545 | Test Acc: 37.83%\n",
            "Epoch: 500 | Loss: 0.10941 | Acc: 91.71% | Test Loss: 0.12734 | Test Acc: 91.33%\n",
            "Epoch: 600 | Loss: 0.10606 | Acc: 92.08% | Test Loss: 0.10077 | Test Acc: 37.83%\n",
            "Epoch: 700 | Loss: 0.08690 | Acc: 92.29% | Test Loss: 0.09995 | Test Acc: 37.83%\n",
            "Epoch: 800 | Loss: 0.08312 | Acc: 39.88% | Test Loss: 0.09694 | Test Acc: 37.83%\n",
            "Epoch: 900 | Loss: 0.08354 | Acc: 39.88% | Test Loss: 0.09875 | Test Acc: 37.83%\n"
          ]
        }
      ]
    },
    {
      "cell_type": "markdown",
      "source": [
        "Graph to see our model"
      ],
      "metadata": {
        "id": "poLjmZwyWGPz"
      }
    },
    {
      "cell_type": "markdown",
      "source": [
        "Model for overlap ratio prediction"
      ],
      "metadata": {
        "id": "XNvaJ0izWJko"
      }
    },
    {
      "cell_type": "code",
      "source": [],
      "metadata": {
        "id": "KscfRvrrOvu0"
      },
      "execution_count": 27,
      "outputs": []
    },
    {
      "cell_type": "code",
      "source": [
        "class overlap_calculator(nn.Module):\n",
        "  def __init__(self):\n",
        "    super().__init__()\n",
        "    self.layer_1 = nn.Linear(6, 16)\n",
        "\n",
        "\n",
        "    self.layer_2 = nn.Linear(16, 16)\n",
        "\n",
        "\n",
        "    self.layer_3 = nn.Linear(16, 1)\n",
        "\n",
        "    self.relu = nn.ReLU()\n",
        "\n",
        "  def forward(self, x):\n",
        "\n",
        "      return self.layer_3(self.relu(self.layer_2(self.relu(self.layer_1(x)))))\n",
        "\n",
        "model_2 = overlap_calculator().to(device)"
      ],
      "metadata": {
        "id": "XHNt-vCYWMHJ"
      },
      "execution_count": 31,
      "outputs": []
    },
    {
      "cell_type": "code",
      "source": [
        "loss_fn2 = nn.SmoothL1Loss()\n",
        "optimizer = torch.optim.Adam(params = model_2.parameters(),lr = 0.1)\n"
      ],
      "metadata": {
        "id": "MQNiUxG_YJDK"
      },
      "execution_count": 32,
      "outputs": []
    },
    {
      "cell_type": "code",
      "source": [
        "y_ratio = final_data[:,-1]\n",
        "\n",
        "\n",
        "X_train , X_test , y_train_ratio , y_test_ratio = train_test_split(X_scaled,y_ratio,test_size = 0.2,random_state = 42)\n",
        "\n",
        "X_train_tensor = torch.tensor(X_train, dtype=torch.float32)\n",
        "X_test_tensor = torch.tensor(X_test, dtype=torch.float32)\n",
        "\n",
        "y_train_ratio = torch.tensor(y_train_ratio, dtype=torch.float32)\n",
        "y_test_ratio = torch.tensor(y_test_ratio, dtype=torch.float32)"
      ],
      "metadata": {
        "id": "FJMokW5bZZEU"
      },
      "execution_count": 33,
      "outputs": []
    },
    {
      "cell_type": "code",
      "source": [
        "import torch\n",
        "\n",
        "\n",
        "torch.manual_seed(42)\n",
        "\n",
        "epoch_count = []\n",
        "train_losses = []\n",
        "test_losses = []\n",
        "mae_train_list = []\n",
        "mae_test_list = []\n",
        "\n",
        "\n",
        "num_epochs = 1000\n",
        "\n",
        "\n",
        "for epoch in range(num_epochs):\n",
        "\n",
        "    model_2.train()\n",
        "\n",
        "    y_pred = model_2(X_train_tensor).squeeze()\n",
        "\n",
        "    loss = loss_fn2(y_pred, y_train_ratio)\n",
        "    mae_train = torch.mean(torch.abs(y_pred - y_train_ratio)).item()\n",
        "\n",
        "\n",
        "    optimizer.zero_grad()\n",
        "    loss.backward()\n",
        "    optimizer.step()\n",
        "\n",
        "\n",
        "    model_2.eval()\n",
        "    with torch.inference_mode():\n",
        "        test_pred = model_2(X_test_tensor).squeeze()\n",
        "        test_loss = loss_fn2(test_pred, y_test_ratio)\n",
        "\n",
        "\n",
        "        mae_test = torch.mean(torch.abs(test_pred - y_test_ratio)).item()\n",
        "\n",
        "\n",
        "    epoch_count.append(epoch)\n",
        "    train_losses.append(loss.item())\n",
        "    test_losses.append(test_loss.item())\n",
        "    mae_train_list.append(mae_train)\n",
        "    mae_test_list.append(mae_test)\n",
        "\n",
        "\n",
        "\n",
        "\n",
        "    if epoch % 100 == 0:\n",
        "        print(f\"Epoch: {epoch} | Train Loss: {loss:.5f} | Test Loss: {test_loss:.5f} | MAE: {mae_test:.5f}\")\n",
        "\n"
      ],
      "metadata": {
        "colab": {
          "base_uri": "https://localhost:8080/"
        },
        "id": "-BxRA11BYkRn",
        "outputId": "9f30b259-7b5d-48fa-d7dc-04cf77f52d21"
      },
      "execution_count": 34,
      "outputs": [
        {
          "output_type": "stream",
          "name": "stdout",
          "text": [
            "Epoch: 0 | Train Loss: 0.92034 | Test Loss: 0.56396 | MAE: 0.89512\n",
            "Epoch: 100 | Train Loss: 0.04341 | Test Loss: 0.11481 | MAE: 0.25587\n",
            "Epoch: 200 | Train Loss: 0.02731 | Test Loss: 0.11146 | MAE: 0.23943\n",
            "Epoch: 300 | Train Loss: 0.03096 | Test Loss: 0.12349 | MAE: 0.26930\n",
            "Epoch: 400 | Train Loss: 0.01776 | Test Loss: 0.09162 | MAE: 0.20895\n",
            "Epoch: 500 | Train Loss: 0.01494 | Test Loss: 0.09832 | MAE: 0.21012\n",
            "Epoch: 600 | Train Loss: 0.02668 | Test Loss: 0.12135 | MAE: 0.26529\n",
            "Epoch: 700 | Train Loss: 0.01197 | Test Loss: 0.09862 | MAE: 0.21275\n",
            "Epoch: 800 | Train Loss: 0.01355 | Test Loss: 0.10349 | MAE: 0.22438\n",
            "Epoch: 900 | Train Loss: 0.01279 | Test Loss: 0.09445 | MAE: 0.20693\n"
          ]
        }
      ]
    },
    {
      "cell_type": "markdown",
      "source": [
        "Call for an image  with th real values and the model values"
      ],
      "metadata": {
        "id": "382M9Eubj6Bc"
      }
    },
    {
      "cell_type": "code",
      "source": [
        "import numpy as np\n",
        "import torch\n",
        "import matplotlib.pyplot as plt\n",
        "\n",
        "\n",
        "r1 = float(input(\"Enter the value of r1 between 0.1-10: \"))\n",
        "r2 = float(input(\"Enter the value of r2 between 0.1-10: \"))\n",
        "x1 = float(input(\"Enter the value of cx1 between -10 and +10: \"))\n",
        "y1 = float(input(\"Enter the value of cy1 between -10 and +10: \"))\n",
        "x2 = float(input(\"Enter the value of cx2 between -10 and +10: \"))\n",
        "y2 = float(input(\"Enter the value of cy2 between -10 and +10: \"))\n",
        "\n",
        "\n",
        "def real_overlap_and_ratio(r1, r2, x1, y1, x2, y2):\n",
        "    D = np.sqrt((x2 - x1) ** 2 + (y2 - y1) ** 2)\n",
        "    R = r1 + r2\n",
        "\n",
        "    if R != 0:\n",
        "        if D == 0 and r1 == r2:\n",
        "            overlap_ratio = 1\n",
        "        elif D <= np.abs(r1 - r2):\n",
        "            overlap_ratio = 1\n",
        "        else:\n",
        "            overlap_ratio = D / R\n",
        "    else:\n",
        "        overlap_ratio = 0\n",
        "\n",
        "    label = 1 if overlap_ratio < 1 else 0\n",
        "\n",
        "    return label, overlap_ratio\n",
        "\n",
        "\n",
        "def predict(r1, r2, x1, y1, x2, y2):\n",
        "    real_overlap, real_overlap_ratio = real_overlap_and_ratio(r1, r2, x1, y1, x2, y2)\n",
        "\n",
        "    input_data = torch.tensor([r1, r2, x1, y1, x2, y2], dtype=torch.float32).unsqueeze(0).to(device)\n",
        "\n",
        "\n",
        "    model_1.eval()\n",
        "    with torch.inference_mode():\n",
        "        y_logits = model_1(input_data).squeeze()\n",
        "        predicted_overlap = torch.round(torch.sigmoid(y_logits)).item()\n",
        "\n",
        "\n",
        "    model_2.eval()\n",
        "    with torch.inference_mode():\n",
        "        predicted_overlap_ratio = model_2(input_data).squeeze().item()\n",
        "\n",
        "\n",
        "    print(\"\\n--- Results ---\")\n",
        "    print(f\"Actual Overlap: {'Yes' if real_overlap == 1 else 'No'} | Predicted: {'Yes' if predicted_overlap == 1 else 'No'}\")\n",
        "    print(f\"Actual Overlap Ratio: {real_overlap_ratio:.4f} | Predicted Ratio: {predicted_overlap_ratio:.4f}\")\n",
        "\n",
        "\n",
        "    fig, ax = plt.subplots()\n",
        "    circle1 = plt.Circle((x1, y1), r1, color='blue', fill=False, linewidth=2, label='Circle 1')\n",
        "    circle2 = plt.Circle((x2, y2), r2, color='red', fill=False, linewidth=2, label='Circle 2')\n",
        "    ax.add_artist(circle1)\n",
        "    ax.add_artist(circle2)\n",
        "\n",
        "    plt.xlim(min(x1, x2) - max(r1, r2) - 10, max(x1, x2) + max(r1, r2) + 10)\n",
        "    plt.ylim(min(y1, y2) - max(r1, r2) - 10, max(y1, y2) + max(r1, r2) + 10)\n",
        "    plt.gca().set_aspect('equal', adjustable='box')\n",
        "\n",
        "    plt.title(f\"Actual Overlap: {'Yes' if real_overlap == 1 else 'No'} | Predicted: {'Yes' if predicted_overlap == 1 else 'No'}\\n\"\n",
        "              f\"Actual Ratio: {real_overlap_ratio:.4f} | Predicted Ratio: {predicted_overlap_ratio:.4f}\")\n",
        "    plt.show()\n",
        "\n",
        "\n",
        "predict(r1, r2, x1, y1, x2, y2)\n",
        "\n"
      ],
      "metadata": {
        "colab": {
          "base_uri": "https://localhost:8080/",
          "height": 647
        },
        "id": "Jg5AnTi0d593",
        "outputId": "f6861657-e8ef-49f2-dda6-1e3a524a3a75"
      },
      "execution_count": 35,
      "outputs": [
        {
          "output_type": "stream",
          "name": "stdout",
          "text": [
            "Enter the value of r1 between 0.1-10: 3\n",
            "Enter the value of r2 between 0.1-10: 6\n",
            "Enter the value of cx1 between -10 and +10: -2\n",
            "Enter the value of cy1 between -10 and +10: 3\n",
            "Enter the value of cx2 between -10 and +10: 4\n",
            "Enter the value of cy2 between -10 and +10: 5\n",
            "\n",
            "--- Results ---\n",
            "Actual Overlap: Yes | Predicted: Yes\n",
            "Actual Overlap Ratio: 0.7027 | Predicted Ratio: 1.3910\n"
          ]
        },
        {
          "output_type": "display_data",
          "data": {
            "text/plain": [
              "<Figure size 640x480 with 1 Axes>"
            ],
            "image/png": "[encoded data removed]"
          },
          "metadata": {}
        }
      ]
    }
  ]
}